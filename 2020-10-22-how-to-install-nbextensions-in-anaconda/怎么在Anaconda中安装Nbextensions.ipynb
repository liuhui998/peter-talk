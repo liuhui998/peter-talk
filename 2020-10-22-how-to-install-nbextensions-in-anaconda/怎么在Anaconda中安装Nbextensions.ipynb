{
 "cells": [
  {
   "cell_type": "markdown",
   "metadata": {},
   "source": [
    "# 什么是 Anaconda\n",
    "\n",
    "事实上Anaconda 和 Jupyter notebook已成为数据分析的标准环境。\n",
    "\n",
    "简单来说，Anaconda是包管理器和环境管理器，\n",
    "\n",
    "Jupyter notebook 可以将数据分析的代码、图像和文档全部组合到一个web文档中。\n",
    "\n",
    "\n",
    "不过在开始前我需要强调下，下面的步骤你要亲自跟着敲一遍并在自己的电脑上实践。虽然下面你会遇到很多命令，给了谁都记不住的。\n",
    "\n",
    "但是别怕，也别中途放弃，因为你没必要记住命令，因为当你在后面学习数据分析用的多了，自然就记住了。\n",
    "\n",
    "记不住也没关系，学会在哪查找就可以了。你只需要跟着上面步骤操作下，并理解了每一步是干什么的就可以了。后面遇到要做的事情，忘记了回头查这个文档就可以了。\n",
    "\n",
    "刚开始学习的过程就像下面这个图，只要中途不放弃，自己实际操作一遍，我保证你可以熟练上手。\n",
    "\n",
    "![hard.gif](hard.gif)\n",
    "\n"
   ]
  },
  {
   "cell_type": "markdown",
   "metadata": {},
   "source": [
    "## Peter说: \n",
    "\n",
    "* Anaconda/Notebook 的出现大大降低了业务人员学习/开发 Python 的门槛\n",
    "\n",
    "* 它把那些繁琐的部分进行了封装，让你大部分时候可以像写 Word文档/Excel函数 一样来写代码\n",
    "\n",
    "* 它们的出现如同自动档与之汽车"
   ]
  },
  {
   "cell_type": "markdown",
   "metadata": {},
   "source": [
    "# 什么 nbextensions\n",
    "\n",
    "“Notebook很强大，交互式、富文本，它把笔记、代码、图表、注释融合在一个交互式的笔记本里，还能添加各种扩展功能“，\n",
    "\n",
    "也有部分同学说 Notebook 连代码提示都没有，不喜欢。试问一下，你真的会用 Notebook 吗？\n",
    "\n",
    "原版的 Notebook 功能有限，对于Python初学者来说确实会有点不适，但是它却有丰富的插件功能，可以将这些不好的体验统统消除。今天我就给大家详细的介绍一下 Notebook 的这些功能强大的插件，相信你会对它有不一样的体验。\n"
   ]
  },
  {
   "cell_type": "markdown",
   "metadata": {},
   "source": [
    "## Peter说：\n",
    "\n",
    "* nbextensions 是一组 Notebook 插件的集合，它和Notebook 一样是完全免费的\n",
    "* nbextensions 让 Notebook 变成了一个专业的开发平台\n"
   ]
  },
  {
   "cell_type": "markdown",
   "metadata": {},
   "source": [
    "# 什么是命令行\n",
    "\n",
    "因为安装 nbextensions 是在命令行里安装的，所以我简单介绍一下，什么叫命令行 \n",
    "\n",
    "下面是 wikipedia 对于命令行的解释:\n",
    "\n",
    "```\n",
    "命令行界面（英语：Command-Line Interface，缩写：CLI）是在图形用户界面得到普及之前使用最为广泛的用户界面，它通常不支持鼠标，用户通过键盘输入指令，计算机接收到指令后，予以执行。也有人称之为字符用户界面（character user interface, CUI）。\n",
    "\n",
    "通常认为，命令行界面（CLI）没有图形用户界面（GUI）那么方便用户操作。因为，命令行界面的软件通常需要用户记忆操作的命令，但是，由于其本身的特点，命令行界面要较图形用户界面节约计算机系统的资源。在熟记命令的前提下，使用命令行界面往往要较使用图形用户界面的操作速度要快。所以，在现在的图形用户界面的操作系统中，通常都保留着可选的命令行界面。\n",
    "\n",
    "虽然现在许多计算机系统都提供了图形化的操作方式，但是却都没有因而停止提供文字模式的命令行操作方式，相反的，许多系统反而更加强这部分的功能，例如 Mac/Linux/Windows 都有较强的命令行能力\n",
    "```"
   ]
  },
  {
   "cell_type": "markdown",
   "metadata": {},
   "source": [
    "## Peter 说：\n",
    "\n",
    "* 命令行界面就像臭豆腐，闻起来臭，吃起来香\n",
    "\n",
    "* 了解命令行是提高工作效率的一个重要手段\n",
    "\n",
    "* 实在不理解命令行，就学会查找复制\n",
    "\n",
    "大家可以根据自己电脑操作系统，选一篇来看：\n",
    "\n",
    "* [Windows 命令行入门](http://sodevel.com/course/res/269/922)\n",
    "* [macOS 命令行教程0 → 基本操作](https://zhuanlan.zhihu.com/p/56834897)"
   ]
  },
  {
   "cell_type": "markdown",
   "metadata": {},
   "source": [
    "# 怎么安装 nbextensions\n"
   ]
  },
  {
   "cell_type": "markdown",
   "metadata": {},
   "source": [
    "## 首先打开 Anaconda Navigator\n",
    "\n",
    "Windows/Mac 找开方式不同，我不就罗嗦了，打开后会如下面的效果：\n",
    "\n",
    "![](navigator.jpg)\n"
   ]
  },
  {
   "cell_type": "markdown",
   "metadata": {},
   "source": [
    "\n",
    "\n",
    "## 再打开命令行\n",
    "\n",
    "先按下图点击，打开命令行窗口:\n",
    "\n",
    "![](how-to-open-terminal.jpg)\n",
    "\n",
    "命令行窗口如下图所示:\n",
    "\n",
    "![](anaconda-terminal.jpg)\n",
    "\n"
   ]
  },
  {
   "cell_type": "markdown",
   "metadata": {},
   "source": [
    "## 执行安装命令\n",
    "\n",
    "复制下面的命令行，再粘贴到命令行窗口上，再按回车：\n",
    "\n",
    "```\n",
    "conda install -c conda-forge jupyter_contrib_nbextensions jupyter_nbextensions_configurator -y\n",
    "```\n",
    "\n",
    "安装的过程如下图所示:\n",
    "\n",
    "![](nbextensions_install_progress.jpg)\n",
    "\n",
    "安装成功后, 命令行就后面有出现一个 \"done\" 的提示信息\n",
    "\n",
    "![](install-done.jpg)"
   ]
  },
  {
   "cell_type": "code",
   "execution_count": null,
   "metadata": {},
   "outputs": [],
   "source": []
  },
  {
   "cell_type": "markdown",
   "metadata": {},
   "source": [
    "# 怎么配置 nbextensions\n"
   ]
  },
  {
   "cell_type": "markdown",
   "metadata": {},
   "source": [
    "## 关掉 Notebook 程序\n",
    "\n",
    "* 一般在 Anaconda 里启动 Notebook， 会有一个类似的命令行窗口，把它先关掉\n",
    "\n",
    "* 如果实在找不到的同学，就可以重启电脑\n",
    "\n",
    "![](notebook_run_window1.jpg)\n"
   ]
  },
  {
   "cell_type": "markdown",
   "metadata": {},
   "source": [
    "## 打开 Notebook 程序\n",
    "\n",
    "![](open_notebook_window.jpg)"
   ]
  },
  {
   "cell_type": "markdown",
   "metadata": {},
   "source": [
    "## 配置 Nbextesions "
   ]
  },
  {
   "cell_type": "markdown",
   "metadata": {},
   "source": [
    "### 再检查一下  Nbextesions 是否安装好\n",
    "\n",
    "刚才打开了 Notebook, 检查一下打开的浏览器窗口中是否出现 Nbextesions 的标签页，如果出现就表示安装成功\n",
    "\n",
    "![nbextensions_tab.jpg](nbextensions_tab.jpg)"
   ]
  },
  {
   "cell_type": "markdown",
   "metadata": {
    "ExecuteTime": {
     "end_time": "2020-10-22T06:16:45.237388Z",
     "start_time": "2020-10-22T06:16:45.235571Z"
    }
   },
   "source": [
    "### 配 Nbextesions 开启哪些插件\n",
    "\n",
    "* 点击 Nbextensions 标签\n",
    "\n",
    "* 按下图提示，开启一些常用的插件\n",
    "\n",
    "![](nb_extensions_config.jpg)"
   ]
  },
  {
   "cell_type": "markdown",
   "metadata": {
    "ExecuteTime": {
     "end_time": "2020-10-22T06:27:09.560560Z",
     "start_time": "2020-10-22T06:27:09.557405Z"
    }
   },
   "source": [
    "### 效果展示\n",
    "\n",
    "参考资料里有很关于抽件知识的介绍，大家可以从里抽出自己能看懂，或是喜欢的部分\n",
    "\n",
    "我最喜欢的是 \"Table of Contents\" 插件，它能让你的代码像一篇层次分明的论文方便阅读\n",
    "\n",
    "![](nbextensions_preview.jpg)"
   ]
  },
  {
   "cell_type": "markdown",
   "metadata": {},
   "source": [
    "# 参考资料\n",
    "\n",
    "* [初学 Python 者自学 Anaconda 的正确姿势是什么？](https://www.zhihu.com/question/58033789)\n",
    "* [我知道你听过Jupyter Notebook，试问一下，你真的会用它吗](https://my.oschina.net/u/4593030/blog/4468219)\n",
    "* [Jupyter插件nbextensions,Nbextensions](https://www.squncle.com/article/2020/5/10/29908.html)\n",
    "* [Miles 的插件笔记](https://note.youdao.com/ynoteshare1/index.html?id=b0f1bd58b2666f41c554c010205b0672&type=note)\n",
    "* [命令行界面](https://zh.wikipedia.org/wiki/%E5%91%BD%E4%BB%A4%E8%A1%8C%E7%95%8C%E9%9D%A2)\n",
    "* [Windows 命令行入门](http://sodevel.com/course/res/269/922)\n",
    "* [macOS 命令行教程0 → 基本操作](https://zhuanlan.zhihu.com/p/56834897)"
   ]
  }
 ],
 "metadata": {
  "kernelspec": {
   "display_name": "Python 3",
   "language": "python",
   "name": "python3"
  },
  "language_info": {
   "codemirror_mode": {
    "name": "ipython",
    "version": 3
   },
   "file_extension": ".py",
   "mimetype": "text/x-python",
   "name": "python",
   "nbconvert_exporter": "python",
   "pygments_lexer": "ipython3",
   "version": "3.8.3"
  },
  "toc": {
   "base_numbering": 1,
   "nav_menu": {},
   "number_sections": true,
   "sideBar": true,
   "skip_h1_title": false,
   "title_cell": "Table of Contents",
   "title_sidebar": "Contents",
   "toc_cell": false,
   "toc_position": {
    "height": "calc(100% - 180px)",
    "left": "10px",
    "top": "150px",
    "width": "322.159px"
   },
   "toc_section_display": true,
   "toc_window_display": true
  },
  "varInspector": {
   "cols": {
    "lenName": 16,
    "lenType": 16,
    "lenVar": 40
   },
   "kernels_config": {
    "python": {
     "delete_cmd_postfix": "",
     "delete_cmd_prefix": "del ",
     "library": "var_list.py",
     "varRefreshCmd": "print(var_dic_list())"
    },
    "r": {
     "delete_cmd_postfix": ") ",
     "delete_cmd_prefix": "rm(",
     "library": "var_list.r",
     "varRefreshCmd": "cat(var_dic_list()) "
    }
   },
   "types_to_exclude": [
    "module",
    "function",
    "builtin_function_or_method",
    "instance",
    "_Feature"
   ],
   "window_display": false
  }
 },
 "nbformat": 4,
 "nbformat_minor": 4
}
